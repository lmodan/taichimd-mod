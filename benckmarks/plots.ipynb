{
 "cells": [
  {
   "cell_type": "code",
   "execution_count": null,
   "metadata": {},
   "outputs": [],
   "source": [
    "import json\n",
    "import numpy as np\n",
    "import matplotlib.pyplot as plt\n",
    "import matplotlib\n",
    "font = {'family' : 'Arial',\n",
    "        'size'   : 8}\n",
    "matplotlib.rc('font', **font)\n",
    "matplotlib.rcParams['mathtext.fontset'] = 'custom'\n",
    "matplotlib.rcParams['mathtext.it'] = 'Arial:italic'\n",
    "matplotlib.rcParams['mathtext.rm'] = 'Arial'"
   ]
  },
  {
   "cell_type": "code",
   "execution_count": null,
   "metadata": {},
   "outputs": [],
   "source": [
    "with open(\"result_lj.json\", 'r') as f:\n",
    "    results = json.load(f)"
   ]
  },
  {
   "cell_type": "code",
   "execution_count": null,
   "metadata": {
    "scrolled": true
   },
   "outputs": [],
   "source": [
    "sys = 'lj'\n",
    "e0 = results[sys][\"VerletIntegrator\"][\"0.005\"]['energy'][0]\n",
    "fig, axes = plt.subplots(3, 5, dpi=400)\n",
    "fig.set_size_inches(12, 6)\n",
    "plt.subplots_adjust(wspace=0.4, hspace=0.3)\n",
    "for i, k in enumerate(results[sys].keys()):\n",
    "    for j, dt in enumerate(results[sys][k].keys()):\n",
    "        data = results[sys][k][dt]\n",
    "        nframe = len(data['energy'])\n",
    "        de = np.array(data['energy']) - e0\n",
    "        axes[0][i].plot(np.arange(nframe) * float(dt), de)\n",
    "        axes[1][i].plot(np.arange(nframe) * float(dt), data['momentum'])\n",
    "    axes[0][i].set_xlim([0, 3])\n",
    "    axes[1][i].set_xlim([0, 3])\n",
    "    axes[0][i].set_title(k)\n",
    "    axes[0][i].set_ylim([-100, 100])\n",
    "    axes[1][i].set_ylim([0, 1e-3])\n",
    "    axes[0][i].grid('on')\n",
    "    axes[1][i].grid('on')\n",
    "    axes[2][i].grid('on')\n",
    "    axes[0][i].set_xlabel(\"time (sim. unit)\")\n",
    "    axes[1][i].set_xlabel(\"time (sim. unit)\")\n",
    "    dt_all = [float(dt) for dt in results[sys][k].keys()]\n",
    "    axes[2][i].plot(dt_all, \n",
    "                   [results[sys][k][dt]['perf'] for dt in results[sys][k].keys()],\n",
    "                   marker='o')\n",
    "    axes[2][i].set_xticks([0.01, 0.02, 0.03, 0.04])\n",
    "    axes[2][i].set_xlabel(\"$dt$\")\n",
    "axes[2][0].set_ylabel(\"Performance (second per sim. unit)\")\n",
    "    \n",
    "axes[0][0].set_ylabel(\"Energy difference\\n(simulation unit)\")\n",
    "axes[1][0].set_ylabel(\"Norm of net momentum\\n(simulation unit)\")\n",
    "axes[0][0].set_xlim([0, 0.5])\n",
    "axes[0][2].set_xlim([0, 0.5])\n",
    "axes[0][0].legend([\"$dt$ = %s\" % x for x in results[sys][k].keys()])\n",
    "plt.show()"
   ]
  },
  {
   "cell_type": "code",
   "execution_count": null,
   "metadata": {
    "scrolled": true
   },
   "outputs": [],
   "source": [
    "with open(\"result_chain.json\", 'r') as f:\n",
    "    results = json.load(f)\n",
    "sys = 'chain'\n",
    "e0 = results[sys][\"VerletIntegrator\"][\"0.0005\"]['energy'][0]\n",
    "print(e0)\n",
    "fig, axes = plt.subplots(3, 5, dpi=400)\n",
    "fig.set_size_inches(12, 6)\n",
    "plt.subplots_adjust(wspace=0.4, hspace=0.3)\n",
    "for i, k in enumerate(results[sys].keys()):\n",
    "    for j, dt in enumerate(results[sys][k].keys()):\n",
    "        data = results[sys][k][dt]\n",
    "        nframe = len(data['energy'])\n",
    "        de = np.array(data['energy']) - e0\n",
    "        axes[0][i].plot(np.arange(nframe) * float(dt), de / 1e6)\n",
    "        axes[1][i].plot(np.arange(nframe) * float(dt), data['momentum'])\n",
    "    axes[0][i].set_xlim([0, 0.3])\n",
    "    axes[1][i].set_xlim([0, 0.3])\n",
    "    axes[0][i].set_title(k)\n",
    "    axes[0][i].set_ylim([-3, 3])\n",
    "    axes[1][i].set_ylim([0, 0.01])\n",
    "    axes[0][i].grid('on')\n",
    "    axes[1][i].grid('on')\n",
    "    axes[2][i].grid('on')\n",
    "    axes[0][i].set_xlabel(\"time (sim. unit)\")\n",
    "    axes[1][i].set_xlabel(\"time (sim. unit)\")\n",
    "    dt_all = [float(dt) for dt in results[sys][k].keys()]\n",
    "    axes[2][i].plot(dt_all, \n",
    "                   [results[sys][k][dt]['perf'] for dt in results[sys][k].keys()],\n",
    "                   marker='o')\n",
    "    axes[2][i].set_xticks([0.001, 0.002, 0.003, 0.004])\n",
    "    axes[2][i].set_xlabel(\"$dt$\")\n",
    "axes[2][0].set_ylabel(\"Performance (second per sim. unit)\")\n",
    "    \n",
    "axes[0][0].set_ylabel(\"Energy difference ($\\\\times 10^6$)\\n(simulation unit)\")\n",
    "axes[1][0].set_ylabel(\"Norm of net momentum\\n(simulation unit)\")\n",
    "axes[0][0].set_xlim([0, 0.05])\n",
    "axes[0][2].set_xlim([0, 0.3])\n",
    "axes[0][0].legend([\"$dt$ = %s\" % x for x in results[sys][k].keys()])\n",
    "plt.show()"
   ]
  },
  {
   "cell_type": "code",
   "execution_count": null,
   "metadata": {},
   "outputs": [],
   "source": []
  }
 ],
 "metadata": {
  "kernelspec": {
   "display_name": "Python 3",
   "language": "python",
   "name": "python3"
  },
  "language_info": {
   "codemirror_mode": {
    "name": "ipython",
    "version": 3
   },
   "file_extension": ".py",
   "mimetype": "text/x-python",
   "name": "python",
   "nbconvert_exporter": "python",
   "pygments_lexer": "ipython3",
   "version": "3.7.3"
  }
 },
 "nbformat": 4,
 "nbformat_minor": 2
}
